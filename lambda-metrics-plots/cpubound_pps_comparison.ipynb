{
 "cells": [
  {
   "cell_type": "code",
   "execution_count": null,
   "id": "9733de50",
   "metadata": {},
   "outputs": [],
   "source": [
    "import pandas\n",
    "\n",
    "from datetime import datetime, timedelta\n",
    "from matplotlib import pyplot"
   ]
  },
  {
   "cell_type": "code",
   "execution_count": null,
   "id": "12553e29",
   "metadata": {},
   "outputs": [],
   "source": [
    "df_cpubound = pandas.read_csv(\"scaling_cpu_bound_1e9.csv\")\n",
    "df_cpubound"
   ]
  },
  {
   "cell_type": "code",
   "execution_count": null,
   "id": "2903e0fe",
   "metadata": {},
   "outputs": [],
   "source": [
    "df_pps = pandas.read_csv(\"scaling_network_bound_3.csv\")\n",
    "df_pps"
   ]
  },
  {
   "cell_type": "markdown",
   "id": "0a293d4f",
   "metadata": {},
   "source": [
    "## Gathering scaling numbers"
   ]
  },
  {
   "cell_type": "code",
   "execution_count": null,
   "id": "ac93739e",
   "metadata": {},
   "outputs": [],
   "source": [
    "cpubound_dict = {\"nlambdas\":[],\"runtime\":[],\"speedup\":[]}\n",
    "\n",
    "\n",
    "for n, (nlambda, curdf) in enumerate(df_cpubound.groupby(\"partitions\")):\n",
    "    runtime = (curdf.endTime.max() - curdf.startTime.min())/1000\n",
    "    if n == 0:\n",
    "        runtime_base = runtime\n",
    "    speedup = 1 / (runtime / runtime_base)\n",
    "\n",
    "    cpubound_dict[\"nlambdas\"].append(nlambda)\n",
    "    cpubound_dict[\"runtime\"].append(runtime)\n",
    "    cpubound_dict[\"speedup\"].append(speedup)\n",
    "    \n",
    "cpubound_scaling = pandas.DataFrame(cpubound_dict)\n",
    "cpubound_scaling"
   ]
  },
  {
   "cell_type": "code",
   "execution_count": null,
   "id": "1d4e201a",
   "metadata": {},
   "outputs": [],
   "source": [
    "pps_dict = {\"nlambdas\":[],\"runtime\":[],\"speedup\":[]}\n",
    "\n",
    "\n",
    "for n, (nlambda, curdf) in enumerate(df_pps.groupby(\"partitions\")):\n",
    "    runtime = (curdf.endTime.max() - curdf.startTime.min())/1000\n",
    "    if n == 0:\n",
    "        runtime_base = runtime\n",
    "    speedup = 1 / (runtime / runtime_base)\n",
    "\n",
    "    pps_dict[\"nlambdas\"].append(nlambda)\n",
    "    pps_dict[\"runtime\"].append(runtime)\n",
    "    pps_dict[\"speedup\"].append(speedup)\n",
    "    \n",
    "pps_scaling = pandas.DataFrame(pps_dict)\n",
    "pps_scaling"
   ]
  },
  {
   "cell_type": "markdown",
   "id": "aa4d8450",
   "metadata": {},
   "source": [
    "## Absolute runtime"
   ]
  },
  {
   "cell_type": "code",
   "execution_count": null,
   "id": "373813ca",
   "metadata": {},
   "outputs": [],
   "source": [
    "fig, ax = pyplot.subplots(figsize=(20,8))\n",
    "\n",
    "pyplot.plot(cpubound_scaling[\"nlambdas\"], cpubound_scaling[\"runtime\"], label = \"cpu-bound benchmark\", marker=\"o\", linewidth=2, markersize=10)\n",
    "pyplot.plot(pps_scaling[\"nlambdas\"], pps_scaling[\"runtime\"], label = \"pps analysis\", marker=\"o\", linewidth=2, markersize=10)\n",
    "pyplot.xticks(cpubound_scaling[\"nlambdas\"])\n",
    "pyplot.xlabel(\"Concurrent Lambda functions\", size=30)\n",
    "pyplot.ylabel(\"Runtime [s]\", size=30)\n",
    "pyplot.tick_params(labelsize=20)\n",
    "pyplot.legend(fontsize=25)\n",
    "\n",
    "fig.savefig('cpubound_pps_runtime.png',\n",
    "            format='png',\n",
    "            dpi=400,\n",
    "            bbox_inches='tight')"
   ]
  },
  {
   "cell_type": "markdown",
   "id": "2a255b48",
   "metadata": {},
   "source": [
    "## Speedup"
   ]
  },
  {
   "cell_type": "code",
   "execution_count": null,
   "id": "545c1188",
   "metadata": {},
   "outputs": [],
   "source": [
    "fig, ax = pyplot.subplots(figsize=(20,8))\n",
    "\n",
    "pyplot.plot(cpubound_scaling[\"nlambdas\"], cpubound_scaling[\"speedup\"], label = \"cpu-bound benchmark\", marker=\"o\", linewidth=2, markersize=10)\n",
    "pyplot.plot(pps_scaling[\"nlambdas\"], pps_scaling[\"speedup\"], label = \"pps analysis\", marker=\"o\", linewidth=2, markersize=10)\n",
    "pyplot.plot(pps_scaling[\"nlambdas\"], pps_scaling[\"nlambdas\"]/8, label = \"ideal speedup\")\n",
    "pyplot.xticks(cpubound_scaling[\"nlambdas\"])\n",
    "pyplot.xlabel(\"Concurrent Lambda functions\", size=30)\n",
    "pyplot.ylabel(\"Speedup\", size=30)\n",
    "pyplot.tick_params(labelsize=20)\n",
    "pyplot.legend(fontsize=25)\n",
    "\n",
    "fig.savefig('cpubound_pps_speedup.png',\n",
    "            format='png',\n",
    "            dpi=400,\n",
    "            bbox_inches='tight')"
   ]
  },
  {
   "cell_type": "code",
   "execution_count": null,
   "id": "785c75d7",
   "metadata": {},
   "outputs": [],
   "source": []
  }
 ],
 "metadata": {
  "kernelspec": {
   "display_name": "Python 3",
   "language": "python",
   "name": "python3"
  },
  "language_info": {
   "codemirror_mode": {
    "name": "ipython",
    "version": 3
   },
   "file_extension": ".py",
   "mimetype": "text/x-python",
   "name": "python",
   "nbconvert_exporter": "python",
   "pygments_lexer": "ipython3",
   "version": "3.10.0"
  }
 },
 "nbformat": 4,
 "nbformat_minor": 5
}
