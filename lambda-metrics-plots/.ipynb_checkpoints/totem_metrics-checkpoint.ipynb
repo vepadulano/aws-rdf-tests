{
 "cells": [
  {
   "cell_type": "code",
   "execution_count": null,
   "id": "d38464cb",
   "metadata": {},
   "outputs": [],
   "source": [
    "import pandas\n",
    "\n",
    "from datetime import datetime, timedelta\n",
    "from matplotlib import pyplot"
   ]
  },
  {
   "cell_type": "code",
   "execution_count": null,
   "id": "79801bb7",
   "metadata": {},
   "outputs": [],
   "source": [
    "df = pandas.read_csv(\"first_part.csv\")\n",
    "df"
   ]
  },
  {
   "cell_type": "code",
   "execution_count": null,
   "id": "a241f11b",
   "metadata": {},
   "outputs": [],
   "source": [
    "start_timestamp = df[\"startTime\"].min() / 1000\n",
    "end_timestamp = df[\"endTime\"].max() / 1000\n",
    "start_datetime = datetime.fromtimestamp(start_timestamp)\n",
    "end_datetime = datetime.fromtimestamp(end_timestamp)\n",
    "\n",
    "print(start_datetime)\n",
    "print(end_datetime)"
   ]
  },
  {
   "cell_type": "code",
   "execution_count": null,
   "id": "1d001813",
   "metadata": {},
   "outputs": [],
   "source": [
    "pyplot.figure(figsize=(10,10))\n",
    "for number, (label, lambdadf) in enumerate(df.groupby(\"uuid\")):\n",
    "    pyplot.plot(lambdadf.groupby(\"startTime\")[\"measurementID\"].count()+ number)\n",
    "pyplot.xlabel(\"Timestamp\")\n",
    "pyplot.ylabel(\"Lambda invokation\")"
   ]
  },
  {
   "cell_type": "code",
   "execution_count": null,
   "id": "de747117",
   "metadata": {},
   "outputs": [],
   "source": [
    "minstartdf = df.groupby('uuid')[[\"startTime\"]].min().reset_index()\n",
    "minstartdf[\"startTime\"] = minstartdf[\"startTime\"] / 1000\n",
    "\n",
    "pyplot.figure(figsize=(10,10))\n",
    "pyplot.plot(minstartdf.index, minstartdf[\"startTime\"]-minstartdf[\"startTime\"].min())"
   ]
  },
  {
   "cell_type": "code",
   "execution_count": null,
   "id": "08a1cf0e",
   "metadata": {},
   "outputs": [],
   "source": [
    "runtimedf = df.groupby('uuid')[[\"startTime\",\"endTime\"]].agg(minstart=(\"startTime\",\"min\"),maxend=(\"endTime\",\"max\")).reset_index()\n",
    "runtimedf[\"runtime\"] = (runtimedf[\"maxend\"] - runtimedf[\"minstart\"]) / 1000\n",
    "runtimedf\n",
    "\n",
    "pyplot.figure(figsize=(10,10))\n",
    "pyplot.plot(runtimedf.index, runtimedf[\"runtime\"])"
   ]
  },
  {
   "cell_type": "code",
   "execution_count": null,
   "id": "de0ce040",
   "metadata": {},
   "outputs": [],
   "source": [
    "cpudf = df[[\"uuid\",\"startTime\",\"endTime\",\"cpuUsr\"]]\n",
    "cpudf"
   ]
  },
  {
   "cell_type": "code",
   "execution_count": null,
   "id": "21297645",
   "metadata": {},
   "outputs": [],
   "source": [
    "dfs = []\n",
    "for label, curdf in cpudf.groupby('uuid'):\n",
    "    curdf[\"cpuPercent\"] = curdf.cpuUsr.diff().shift(-1)\n",
    "    dfs.append(curdf)\n",
    "\n",
    "\n",
    "cpupercentdf = pandas.concat(dfs).reset_index(drop=True)\n",
    "cpupercentdf[\"startDateTime\"] = (cpupercentdf[\"startTime\"]/pow(10,3)).apply(datetime.fromtimestamp)\n",
    "pyplot.plot(cpupercentdf.index, cpupercentdf[\"cpuPercent\"])"
   ]
  },
  {
   "cell_type": "code",
   "execution_count": null,
   "id": "47782e92",
   "metadata": {},
   "outputs": [],
   "source": [
    "metrics = df[[\"startTime\",\"cpuUsr\",\"network_rx_bytes.vinternal_1\"]].copy()\n",
    "metrics"
   ]
  },
  {
   "cell_type": "code",
   "execution_count": null,
   "id": "fafd5585",
   "metadata": {},
   "outputs": [],
   "source": [
    "metrics[\"startDateTime\"] = (metrics[\"startTime\"]/pow(10,3)).apply(datetime.fromtimestamp)\n",
    "metrics"
   ]
  },
  {
   "cell_type": "code",
   "execution_count": null,
   "id": "1bf4753c",
   "metadata": {},
   "outputs": [],
   "source": [
    "timebins = []\n",
    "current_datetime = start_datetime\n",
    "while current_datetime <= end_datetime:\n",
    "    timebins.append(current_datetime)\n",
    "    current_datetime += timedelta(seconds=1)\n",
    "timebins.append(end_datetime)\n"
   ]
  },
  {
   "cell_type": "code",
   "execution_count": null,
   "id": "1088748e",
   "metadata": {},
   "outputs": [],
   "source": [
    "metrics[\"bins\"] = pandas.cut(metrics[\"startDateTime\"], timebins)\n",
    "metrics"
   ]
  },
  {
   "cell_type": "code",
   "execution_count": null,
   "id": "efe3c117",
   "metadata": {},
   "outputs": [],
   "source": [
    "for value in metrics.loc[0]:\n",
    "    print(value)"
   ]
  },
  {
   "cell_type": "code",
   "execution_count": null,
   "id": "40d544c1",
   "metadata": {},
   "outputs": [],
   "source": [
    "for grouplabel, groupdf in metrics.groupby(\"bins\"):\n",
    "    #print(f\"Label: {grouplabel}\")\n",
    "    print(f\"Entries: {len(groupdf)}\")\n",
    "    #print(f\"DataFrame: {groupdf}\")"
   ]
  },
  {
   "cell_type": "code",
   "execution_count": null,
   "id": "34c67d7f",
   "metadata": {},
   "outputs": [],
   "source": [
    "cpupercentdf[\"bins\"] = pandas.cut(cpupercentdf[\"startDateTime\"], timebins)\n",
    "cpupercentdf"
   ]
  },
  {
   "cell_type": "code",
   "execution_count": null,
   "id": "16c61fb5",
   "metadata": {},
   "outputs": [],
   "source": [
    "for grouplabel, groupdf in cpupercentdf.groupby(\"bins\"):\n",
    "    #print(f\"Label: {grouplabel}\")\n",
    "    print(f\"Entries: {len(groupdf)}\")\n",
    "    #print(f\"DataFrame: {groupdf}\")"
   ]
  },
  {
   "cell_type": "code",
   "execution_count": null,
   "id": "dca3b103",
   "metadata": {},
   "outputs": [],
   "source": [
    "cpusumdf = metrics.groupby(\"bins\").agg(cpu_sum=(\"cpuUsr\",\"sum\"), numlambdas=(\"cpuUsr\",\"count\")).reset_index()\n",
    "cpusumdf"
   ]
  },
  {
   "cell_type": "code",
   "execution_count": null,
   "id": "4970adf9",
   "metadata": {},
   "outputs": [],
   "source": [
    "cpusumdfpercent = cpupercentdf.groupby(\"bins\").agg(cpu_sum=(\"cpuPercent\",\"sum\"), numlambdas=(\"cpuUsr\",\"count\")).reset_index()\n",
    "cpusumdfpercent"
   ]
  },
  {
   "cell_type": "code",
   "execution_count": null,
   "id": "ad5e7f75",
   "metadata": {},
   "outputs": [],
   "source": [
    "pyplot.plot(cpusumdf.index, cpusumdf[\"cpu_sum\"])"
   ]
  },
  {
   "cell_type": "code",
   "execution_count": null,
   "id": "f52815f1",
   "metadata": {
    "scrolled": true
   },
   "outputs": [],
   "source": [
    "cpusumdf.cpu_sum.diff().shift(-1).plot()"
   ]
  },
  {
   "cell_type": "code",
   "execution_count": null,
   "id": "1003e503",
   "metadata": {},
   "outputs": [],
   "source": [
    "pyplot.figure(figsize=(10,10))\n",
    "pyplot.plot(cpusumdfpercent[\"cpu_sum\"], label=\"CPU Usage\")"
   ]
  },
  {
   "cell_type": "code",
   "execution_count": null,
   "id": "67bb9d02",
   "metadata": {},
   "outputs": [],
   "source": [
    "networksumdf = metrics[[\"bins\",\"network_rx_bytes.vinternal_1\"]].groupby(\"bins\").sum().reset_index()\n",
    "networksumdf.plot()"
   ]
  },
  {
   "cell_type": "code",
   "execution_count": null,
   "id": "8370cb93",
   "metadata": {},
   "outputs": [],
   "source": [
    "networkcumsumdf = metrics[[\"bins\",\"network_rx_bytes.vinternal_1\"]].groupby(\"bins\").sum().cumsum().reset_index()\n",
    "networkcumsumdf"
   ]
  },
  {
   "cell_type": "code",
   "execution_count": null,
   "id": "7d7f9cfd",
   "metadata": {},
   "outputs": [],
   "source": [
    "cpucumsumdf = metrics[[\"bins\",\"cpuUsr\"]].groupby(\"bins\").sum().cumsum().reset_index()\n",
    "cpucumsumdf.plot()"
   ]
  },
  {
   "cell_type": "code",
   "execution_count": null,
   "id": "e6d31cb5",
   "metadata": {},
   "outputs": [],
   "source": [
    "fig,ax = pyplot.subplots(figsize=(10,10))\n",
    "ax.plot(cpusumdfpercent[\"cpu_sum\"], color=\"green\")\n",
    "ax.set_ylabel(\"CPU Usage (Percentage)\", color=\"green\")\n",
    "ax2 = ax.twinx()\n",
    "ax2.plot(networksumdf[\"network_rx_bytes.vinternal_1\"]/pow(10,9), color=\"blue\")\n",
    "ax2.set_ylabel(\"Transfered data (GB)\", color=\"blue\")\n",
    "ax.set_xlabel(\"Time increment (s)\")\n",
    "fig.savefig('cpuandnetwork.png',\n",
    "            format='png',\n",
    "            dpi=300,\n",
    "            bbox_inches='tight')"
   ]
  },
  {
   "cell_type": "code",
   "execution_count": null,
   "id": "8faf924d",
   "metadata": {},
   "outputs": [],
   "source": [
    "fig,ax = pyplot.subplots(figsize=(10,10))\n",
    "ax.plot(cpusumdfpercent[\"numlambdas\"])\n",
    "pyplot.yticks(list(range(0,70,5)))\n",
    "pyplot.xlabel(\"Time increment(s)\")\n",
    "pyplot.ylabel(\"Number of Lambdas\")\n",
    "fig.savefig('numlambdas.png',\n",
    "            format='png',\n",
    "            dpi=300,\n",
    "            bbox_inches='tight')"
   ]
  },
  {
   "cell_type": "code",
   "execution_count": null,
   "id": "60eca549",
   "metadata": {},
   "outputs": [],
   "source": []
  }
 ],
 "metadata": {
  "kernelspec": {
   "display_name": "Python 3",
   "language": "python",
   "name": "python3"
  },
  "language_info": {
   "codemirror_mode": {
    "name": "ipython",
    "version": 3
   },
   "file_extension": ".py",
   "mimetype": "text/x-python",
   "name": "python",
   "nbconvert_exporter": "python",
   "pygments_lexer": "ipython3",
   "version": "3.10.0"
  }
 },
 "nbformat": 4,
 "nbformat_minor": 5
}
