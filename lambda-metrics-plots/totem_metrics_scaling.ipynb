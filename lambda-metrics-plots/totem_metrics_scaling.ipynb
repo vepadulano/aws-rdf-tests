{
 "cells": [
  {
   "cell_type": "code",
   "execution_count": null,
   "id": "d38464cb",
   "metadata": {},
   "outputs": [],
   "source": [
    "import pandas\n",
    "\n",
    "from datetime import datetime, timedelta\n",
    "from matplotlib import pyplot"
   ]
  },
  {
   "cell_type": "code",
   "execution_count": null,
   "id": "79801bb7",
   "metadata": {},
   "outputs": [],
   "source": [
    "df = pandas.read_csv(\"scaling_network_bound_3.csv\")\n",
    "df"
   ]
  },
  {
   "cell_type": "code",
   "execution_count": null,
   "id": "6f028cf0",
   "metadata": {},
   "outputs": [],
   "source": [
    "for label, curdf in df.groupby(\"partitions\"):\n",
    "    print(f\"npartitions: {label}, nlambdas: {len(curdf.groupby('uuid'))}\")"
   ]
  },
  {
   "cell_type": "code",
   "execution_count": null,
   "id": "750fc9f5",
   "metadata": {},
   "outputs": [],
   "source": [
    "dflambdas = {}\n",
    "for label, curdf in df.groupby(\"partitions\"):\n",
    "    dflambdas[label] = curdf\n",
    "    runtime = (curdf.endTime.max() - curdf.startTime.min())/1000\n",
    "    speedup = 1 / (runtime / 777.818)\n",
    "    print(f\"npartitions: {label}, Runtime: {runtime} seconds, speedup: {speedup}\")"
   ]
  },
  {
   "cell_type": "code",
   "execution_count": null,
   "id": "a241f11b",
   "metadata": {},
   "outputs": [],
   "source": [
    "start_timestamp = df_8lambdas[\"startTime\"].min() / 1000\n",
    "end_timestamp = df_8lambdas[\"endTime\"].max() / 1000\n",
    "start_datetime = datetime.fromtimestamp(start_timestamp)\n",
    "end_datetime = datetime.fromtimestamp(end_timestamp)\n",
    "\n",
    "print(start_datetime)\n",
    "print(end_datetime)\n",
    "print(f\"Total runtime: {round(end_timestamp - start_timestamp, 2)} seconds\")"
   ]
  },
  {
   "cell_type": "code",
   "execution_count": null,
   "id": "11a432ee",
   "metadata": {},
   "outputs": [],
   "source": [
    "pyplot.figure(figsize=(10,10))\n",
    "for number, (label, lambdadf) in enumerate(df_8lambdas.groupby(\"uuid\")):\n",
    "    pyplot.plot(lambdadf.groupby(\"startTime\")[\"measurementID\"].count()+ number)\n",
    "pyplot.xlabel(\"Timestamp\")\n",
    "pyplot.ylabel(\"Lambda invokation\")"
   ]
  },
  {
   "cell_type": "code",
   "execution_count": null,
   "id": "5597164d",
   "metadata": {},
   "outputs": [],
   "source": [
    "minstartdf = df_8lambdas.groupby('uuid')[[\"startTime\"]].min().reset_index()\n",
    "minstartdf[\"startTime\"] = minstartdf[\"startTime\"] / 1000\n",
    "\n",
    "pyplot.figure(figsize=(10,10))\n",
    "pyplot.plot(minstartdf.index, minstartdf[\"startTime\"]-minstartdf[\"startTime\"].min())"
   ]
  },
  {
   "cell_type": "code",
   "execution_count": null,
   "id": "5c1c2d56",
   "metadata": {},
   "outputs": [],
   "source": [
    "maxenddf = df_8lambdas.groupby('uuid')[[\"endTime\"]].max().reset_index()\n",
    "maxenddf[\"endTime\"] = maxenddf[\"endTime\"] / 1000\n",
    "\n",
    "pyplot.figure(figsize=(12,12))\n",
    "pyplot.title(\"Ending time of each lambda relative to the first one\")\n",
    "pyplot.xlabel(\"Lambda index\")\n",
    "pyplot.ylabel(\"Time (seconds)\")\n",
    "pyplot.plot(maxenddf.index, maxenddf[\"endTime\"]-maxenddf[\"endTime\"].min())"
   ]
  },
  {
   "cell_type": "code",
   "execution_count": null,
   "id": "1ee66c25",
   "metadata": {},
   "outputs": [],
   "source": [
    "runtimedf = df_8lambdas.groupby('uuid')[[\"startTime\",\"endTime\"]].agg(minstart=(\"startTime\",\"min\"),maxend=(\"endTime\",\"max\")).reset_index()\n",
    "runtimedf[\"runtime\"] = (runtimedf[\"maxend\"] - runtimedf[\"minstart\"]) / 1000\n",
    "runtimedf\n",
    "\n",
    "pyplot.figure(figsize=(10,10))\n",
    "pyplot.plot(runtimedf.index, runtimedf[\"runtime\"])"
   ]
  },
  {
   "cell_type": "code",
   "execution_count": null,
   "id": "de0ce040",
   "metadata": {},
   "outputs": [],
   "source": [
    "cpudf = df_8lambdas[[\"uuid\",\"startTime\",\"endTime\",\"cpuUsr\"]]\n",
    "cpudf"
   ]
  },
  {
   "cell_type": "code",
   "execution_count": null,
   "id": "913edf13",
   "metadata": {},
   "outputs": [],
   "source": [
    "cpudf = df_8lambdas[[\"uuid\",\"startTime\",\"endTime\",\"cpuUsr\"]]\n",
    "dfs = []\n",
    "for label, curdf in cpudf.groupby('uuid'):\n",
    "    curdf[\"cpuPercent\"] = curdf.cpuUsr.diff().shift(-1)\n",
    "    dfs.append(curdf)\n",
    "\n",
    "\n",
    "cpupercentdf = pandas.concat(dfs).reset_index(drop=True)\n",
    "cpupercentdf[\"startDateTime\"] = (cpupercentdf[\"startTime\"]/pow(10,3)).apply(datetime.fromtimestamp)\n",
    "cpupercentdf"
   ]
  },
  {
   "cell_type": "code",
   "execution_count": null,
   "id": "7aecf69e",
   "metadata": {},
   "outputs": [],
   "source": [
    "networkdf = df_8lambdas[[\"uuid\",\"startTime\",\"endTime\",\"network_rx_bytes.vinternal_1\"]]\n",
    "dfs = []\n",
    "for label, curdf in networkdf.groupby('uuid'):\n",
    "    curdf[\"networkpersecond\"] = curdf[\"network_rx_bytes.vinternal_1\"].diff().shift(-1)\n",
    "    dfs.append(curdf)\n",
    "\n",
    "\n",
    "networkperseconddf = pandas.concat(dfs).reset_index(drop=True)\n",
    "networkperseconddf[\"startDateTime\"] = (networkperseconddf[\"startTime\"]/pow(10,3)).apply(datetime.fromtimestamp)\n",
    "networkperseconddf"
   ]
  },
  {
   "cell_type": "markdown",
   "id": "c5ea8f6c",
   "metadata": {},
   "source": [
    "# Creating the Bins"
   ]
  },
  {
   "cell_type": "code",
   "execution_count": null,
   "id": "47782e92",
   "metadata": {},
   "outputs": [],
   "source": [
    "metrics = dflambdas[64][[\"uuid\",\"startTime\",\"cpuUsr\",\"network_rx_bytes.vinternal_1\"]].copy()\n",
    "metrics"
   ]
  },
  {
   "cell_type": "code",
   "execution_count": null,
   "id": "fafd5585",
   "metadata": {},
   "outputs": [],
   "source": [
    "metrics[\"startDateTime\"] = (metrics[\"startTime\"]/pow(10,3)).apply(datetime.fromtimestamp)\n",
    "metrics"
   ]
  },
  {
   "cell_type": "code",
   "execution_count": null,
   "id": "1bf4753c",
   "metadata": {},
   "outputs": [],
   "source": [
    "def round_seconds(obj: datetime, how=\"previous\") -> datetime:\n",
    "    if how==\"previous\":\n",
    "        obj -= timedelta(seconds=1)\n",
    "    else:\n",
    "        obj += timedelta(seconds=1)\n",
    "    return obj.replace(microsecond=0)\n",
    "\n",
    "timebins = []\n",
    "current_datetime = round_seconds(start_datetime)\n",
    "while current_datetime <= end_datetime:\n",
    "    timebins.append(current_datetime)\n",
    "    current_datetime += timedelta(seconds=2)\n",
    "timebins.append(round_seconds(end_datetime, how=\"next\"))\n",
    "timebins"
   ]
  },
  {
   "cell_type": "code",
   "execution_count": null,
   "id": "1088748e",
   "metadata": {},
   "outputs": [],
   "source": [
    "metrics[\"bins\"] = pandas.cut(metrics[\"startDateTime\"], timebins)\n",
    "metrics"
   ]
  },
  {
   "cell_type": "code",
   "execution_count": null,
   "id": "c887ee43",
   "metadata": {},
   "outputs": [],
   "source": [
    "pyplot.figure(figsize=(10,10))\n",
    "for number, (label, lambdadf) in enumerate(metrics.groupby(\"uuid\")):\n",
    "    pyplot.plot(lambdadf.groupby(\"startTime\")[\"cpuUsr\"].count() + number)\n",
    "pyplot.xlabel(\"Timestamp\")\n",
    "pyplot.ylabel(\"Lambda invokation\")"
   ]
  },
  {
   "cell_type": "code",
   "execution_count": null,
   "id": "40d544c1",
   "metadata": {},
   "outputs": [],
   "source": [
    "for grouplabel, groupdf in metrics.groupby([\"bins\"]):\n",
    "    #print(f\"Label: {grouplabel}\")\n",
    "    print(f\"Entries: {len(groupdf)}\")\n",
    "    #print(f\"DataFrame: {groupdf}\")\n",
    "    print(len(groupdf.uuid.unique()))"
   ]
  },
  {
   "cell_type": "code",
   "execution_count": null,
   "id": "006d3340",
   "metadata": {},
   "outputs": [],
   "source": [
    "cpupercentdf[\"bins\"] = pandas.cut(cpupercentdf[\"startDateTime\"], timebins)\n",
    "cpupercentdf"
   ]
  },
  {
   "cell_type": "code",
   "execution_count": null,
   "id": "d815dfa3",
   "metadata": {},
   "outputs": [],
   "source": [
    "networkperseconddf[\"bins\"] = pandas.cut(networkperseconddf[\"startDateTime\"], timebins)\n",
    "networkperseconddf"
   ]
  },
  {
   "cell_type": "code",
   "execution_count": null,
   "id": "8e3074d3",
   "metadata": {},
   "outputs": [],
   "source": [
    "for label, curdf in networkperseconddf.groupby(\"uuid\"):\n",
    "    pyplot.plot(curdf[\"startDateTime\"], curdf[\"networkpersecond\"])"
   ]
  },
  {
   "cell_type": "code",
   "execution_count": null,
   "id": "354e76f7",
   "metadata": {},
   "outputs": [],
   "source": [
    "pyplot.boxplot(networkperseconddf[\"networkpersecond\"].dropna()/pow(10,6))"
   ]
  },
  {
   "cell_type": "code",
   "execution_count": null,
   "id": "91c7fe64",
   "metadata": {},
   "outputs": [],
   "source": [
    "for grouplabel, groupdf in cpupercentdf.groupby([\"bins\"]):\n",
    "    #print(f\"Label: {grouplabel}\")\n",
    "    print(f\"Entries: {len(groupdf)}\")\n",
    "    #print(f\"DataFrame: {groupdf}\")\n",
    "    print(len(groupdf.uuid.unique()))"
   ]
  },
  {
   "cell_type": "code",
   "execution_count": null,
   "id": "1dfe6829",
   "metadata": {},
   "outputs": [],
   "source": [
    "def f(series):\n",
    "    return len(series.unique())\n",
    "cpusumdf = metrics.groupby(\"bins\").agg(cpu_sum=(\"cpuUsr\",\"sum\"), numlambdas=(\"uuid\",f)).reset_index()\n",
    "cpusumdf"
   ]
  },
  {
   "cell_type": "code",
   "execution_count": null,
   "id": "ff570fdc",
   "metadata": {},
   "outputs": [],
   "source": [
    "cpusumdfpercent = cpupercentdf.groupby(\"bins\").agg(cpu_sum=(\"cpuPercent\",\"sum\"), numlambdas=(\"uuid\",f)).reset_index()\n",
    "cpusumdfpercent[\"timelabels\"] = cpusumdfpercent[\"bins\"].apply(lambda x: x.left)\n",
    "init_time = cpusumdfpercent[\"timelabels\"][0]\n",
    "cpusumdfpercent[\"timelabels\"] = cpusumdfpercent[\"timelabels\"].apply(lambda x: (x - init_time).seconds)\n",
    "cpusumdfpercent"
   ]
  },
  {
   "cell_type": "code",
   "execution_count": null,
   "id": "4105ad17",
   "metadata": {},
   "outputs": [],
   "source": [
    "cpusumdfpercent[\"bins\"].apply(lambda x: x.left)"
   ]
  },
  {
   "cell_type": "code",
   "execution_count": null,
   "id": "67bb9d02",
   "metadata": {},
   "outputs": [],
   "source": [
    "networksumdf = metrics.groupby(\"bins\").agg(network_sum=(\"network_rx_bytes.vinternal_1\",\"sum\"), numlambdas=(\"uuid\",f)).reset_index()\n",
    "networksumdf"
   ]
  },
  {
   "cell_type": "code",
   "execution_count": null,
   "id": "8370cb93",
   "metadata": {},
   "outputs": [],
   "source": [
    "networkcumsumdf = metrics[[\"bins\",\"network_rx_bytes.vinternal_1\"]].groupby(\"bins\").sum().cumsum().reset_index()\n",
    "fig, ax = pyplot.subplots(figsize=(10,10))\n",
    "pyplot.plot(networkcumsumdf[\"bins\"].apply(lambda x: x.left), networkcumsumdf[\"network_rx_bytes.vinternal_1\"]/pow(10,9)/2, label=\"Data Transferred\")\n",
    "pyplot.xlabel(\"Absolute time\")\n",
    "pyplot.ylabel(\"Cumulative data transferred (GB)\")\n",
    "fig.savefig('network_sum_pps.png',\n",
    "            format='png',\n",
    "            dpi=300,\n",
    "            bbox_inches='tight')"
   ]
  },
  {
   "cell_type": "code",
   "execution_count": null,
   "id": "b8f50c00",
   "metadata": {},
   "outputs": [],
   "source": [
    "cpucumsumdf = cpusumdf[[\"bins\",\"cpu_sum\"]].groupby(\"bins\").sum().cumsum().reset_index()\n",
    "\n",
    "fig, ax = pyplot.subplots(figsize=(10,10))\n",
    "pyplot.plot(cpucumsumdf[\"bins\"].apply(lambda x: x.left), cpucumsumdf[\"cpu_sum\"]/2, label=\"CPU Usage\")\n",
    "pyplot.xlabel(\"Absolute time\")\n",
    "pyplot.ylabel(\"CPU usage (sum)\")\n",
    "fig.savefig('cpuusage_sum.png',\n",
    "            format='png',\n",
    "            dpi=300,\n",
    "            bbox_inches='tight')"
   ]
  },
  {
   "cell_type": "code",
   "execution_count": null,
   "id": "cd4dedda",
   "metadata": {},
   "outputs": [],
   "source": [
    "fig,ax = pyplot.subplots(figsize=(10,10))\n",
    "ax.bar(cpusumdfpercent.index, cpusumdfpercent[\"cpu_sum\"], color=\"green\")\n",
    "ax.set_ylabel(\"CPU Usage (Percentage)\", color=\"green\")\n",
    "ax2 = ax.twinx()\n",
    "ax2.bar(networksumdf.index, networksumdf[\"network_sum\"]/pow(10,9), color=\"blue\")\n",
    "ax2.set_ylabel(\"Transfered data (GB)\", color=\"blue\")\n",
    "ax.set_xlabel(\"Time increment (2 seconds)\")\n",
    "fig.savefig('cpuandnetwork.png',\n",
    "            format='png',\n",
    "            dpi=300,\n",
    "            bbox_inches='tight')"
   ]
  },
  {
   "cell_type": "code",
   "execution_count": null,
   "id": "0f143341",
   "metadata": {},
   "outputs": [],
   "source": [
    "fig,ax = pyplot.subplots(figsize=(10,10))\n",
    "ax.plot(cpusumdf[\"numlambdas\"])\n",
    "#pyplot.yticks(list(range(0,70,5)))\n",
    "pyplot.xlabel(\"Time increment (2 seconds)\")\n",
    "pyplot.ylabel(\"Number of Lambdas\")\n",
    "fig.savefig('numlambdas.png',\n",
    "            format='png',\n",
    "            dpi=300,\n",
    "            bbox_inches='tight')"
   ]
  },
  {
   "cell_type": "code",
   "execution_count": null,
   "id": "85a0ed6e",
   "metadata": {},
   "outputs": [],
   "source": [
    "fig,ax = pyplot.subplots(figsize=(10,10))\n",
    "ax.bar(cpusumdfpercent.index, cpusumdfpercent[\"cpu_sum\"]/2)\n",
    "ax.set_ylabel(\"CPU Usage (Percentage)\", color=\"green\")\n"
   ]
  },
  {
   "cell_type": "markdown",
   "id": "966a7514",
   "metadata": {},
   "source": [
    "# 128 Lambda\n",
    "Chosen because 128 is the highest number that still shows nice behaviour"
   ]
  },
  {
   "cell_type": "code",
   "execution_count": null,
   "id": "301bf81d",
   "metadata": {},
   "outputs": [],
   "source": [
    "minstartdf = df_128lambdas.groupby('uuid')[[\"startTime\"]].min().reset_index()\n",
    "minstartdf[\"startTime\"] = minstartdf[\"startTime\"] / 1000\n",
    "\n",
    "fig, ax = pyplot.subplots(figsize=(10,10))\n",
    "#pyplot.title(\"Starting time of each lambda relative to the first one\", size=20)\n",
    "pyplot.xlabel(\"Time [s]\", size=20)\n",
    "pyplot.ylabel(\"Occurences\", size=20)\n",
    "pyplot.tick_params(labelsize=20)\n",
    "\n",
    "pyplot.hist(minstartdf[\"startTime\"]-minstartdf[\"startTime\"].min(), bins=25)\n",
    "\n",
    "fig.savefig('relativestart_pps.png',\n",
    "            format='png',\n",
    "            dpi=400,\n",
    "            bbox_inches='tight')"
   ]
  },
  {
   "cell_type": "code",
   "execution_count": null,
   "id": "e4049c48",
   "metadata": {},
   "outputs": [],
   "source": [
    "maxenddf = df_128lambdas.groupby('uuid')[[\"endTime\"]].max().reset_index()\n",
    "maxenddf[\"endTime\"] = maxenddf[\"endTime\"] / 1000\n",
    "\n",
    "\n",
    "fig, ax = pyplot.subplots(figsize=(10,10))\n",
    "#pyplot.title(\"Ending time of each lambda relative to the first one\")\n",
    "pyplot.xlabel(\"Time [s]\", size=20)\n",
    "pyplot.ylabel(\"Occurences\", size=20)\n",
    "pyplot.tick_params(labelsize=20)\n",
    "\n",
    "pyplot.hist(maxenddf[\"endTime\"]-maxenddf[\"endTime\"].min(), bins=25)\n",
    "\n",
    "fig.savefig('relativeend_pps.png',\n",
    "            format='png',\n",
    "            dpi=400,\n",
    "            bbox_inches='tight')"
   ]
  },
  {
   "cell_type": "markdown",
   "id": "d91751fa",
   "metadata": {},
   "source": [
    "# Network and CPU intervals"
   ]
  },
  {
   "cell_type": "code",
   "execution_count": null,
   "id": "9b3207e0",
   "metadata": {},
   "outputs": [],
   "source": [
    "cpudf = dflambdas[64][[\"uuid\",\"startTime\",\"endTime\",\"cpuUsr\"]]\n",
    "dfs = []\n",
    "for label, curdf in cpudf.groupby('uuid'):\n",
    "    curdf[\"cpuPercent\"] = curdf.cpuUsr.diff().shift(-1)\n",
    "    dfs.append(curdf)\n",
    "\n",
    "\n",
    "cpupercentdf = pandas.concat(dfs).reset_index(drop=True)\n",
    "cpupercentdf[\"startDateTime\"] = (cpupercentdf[\"startTime\"]/pow(10,3)).apply(datetime.fromtimestamp)\n",
    "cpupercentdf"
   ]
  },
  {
   "cell_type": "code",
   "execution_count": null,
   "id": "f21c292d",
   "metadata": {},
   "outputs": [],
   "source": [
    "networkdf = dflambdas[64][[\"uuid\",\"startTime\",\"endTime\",\"network_rx_bytes.vinternal_1\"]]\n",
    "dfs = []\n",
    "for label, curdf in networkdf.groupby('uuid'):\n",
    "    curdf[\"networkpersecond\"] = curdf[\"network_rx_bytes.vinternal_1\"].diff().shift(-1)\n",
    "    dfs.append(curdf)\n",
    "\n",
    "\n",
    "networkperseconddf = pandas.concat(dfs).reset_index(drop=True)\n",
    "networkperseconddf[\"startDateTime\"] = (networkperseconddf[\"startTime\"]/pow(10,3)).apply(datetime.fromtimestamp)\n",
    "networkperseconddf"
   ]
  },
  {
   "cell_type": "code",
   "execution_count": null,
   "id": "0d2d11b7",
   "metadata": {},
   "outputs": [],
   "source": [
    "fig, ax = pyplot.subplots(figsize=(16,9))\n",
    "\n",
    "singlelambdacpu = cpupercentdf[cpupercentdf[\"uuid\"] == cpupercentdf[\"uuid\"][0]].copy()\n",
    "singlelambdacpu[\"timefromstart\"] = (singlelambdacpu[\"startTime\"] - singlelambdacpu[\"startTime\"][0])/ pow(10,3)\n",
    "\n",
    "singlelambdanetwork = networkperseconddf[networkperseconddf[\"uuid\"] == networkperseconddf[\"uuid\"][0]].copy()\n",
    "singlelambdanetwork[\"timefromstart\"] = (singlelambdanetwork[\"startTime\"] - singlelambdanetwork[\"startTime\"][0]) / pow(10,3)\n",
    "\n",
    "ax.plot(singlelambdacpu.timefromstart, singlelambdacpu.cpuPercent, color=\"orange\")\n",
    "\n",
    "ax.fill_between(singlelambdacpu.timefromstart, singlelambdacpu.cpuPercent, color='orange', alpha=0.2)\n",
    "ax.set_xlabel(\"Time from start [s]\", size=25)\n",
    "ax.set_ylabel(\"CPU usage [%/s]\", color=\"orange\", size=25)\n",
    "ax.tick_params(labelsize=25)\n",
    "\n",
    "ax2 = ax.twinx()\n",
    "ax2.plot(singlelambdanetwork.timefromstart, singlelambdanetwork.networkpersecond / pow (10, 6), color=\"blue\")\n",
    "ax2.fill_between(singlelambdanetwork.timefromstart, singlelambdanetwork.networkpersecond / pow (10, 6), color='blue', alpha=0.2)\n",
    "ax2.set_ylabel(\"Network traffic [MB/s]\", color=\"blue\", size=25)\n",
    "ax2.tick_params(labelsize=25)\n",
    "\n",
    "fig.savefig('network_cpu_intervals.png',\n",
    "            format='png',\n",
    "            dpi=400,\n",
    "            bbox_inches='tight')"
   ]
  },
  {
   "cell_type": "markdown",
   "id": "2cd82f4c",
   "metadata": {},
   "source": [
    "# Aggregated CPU usage"
   ]
  },
  {
   "cell_type": "code",
   "execution_count": null,
   "id": "3e357b28",
   "metadata": {},
   "outputs": [],
   "source": [
    "cpudf = dflambdas[8][[\"uuid\",\"startTime\",\"endTime\",\"cpuUsr\"]]\n",
    "dfs = []\n",
    "for label, curdf in cpudf.groupby('uuid'):\n",
    "    curdf[\"cpuPercent\"] = curdf.cpuUsr.diff().shift(-1)\n",
    "    dfs.append(curdf)\n",
    "\n",
    "\n",
    "cpupercentdf = pandas.concat(dfs).reset_index(drop=True)\n",
    "cpupercentdf[\"startDateTime\"] = (cpupercentdf[\"startTime\"]/pow(10,3)).apply(datetime.fromtimestamp)\n",
    "cpupercentdf[\"endDateTime\"] = (cpupercentdf[\"endTime\"]/pow(10,3)).apply(datetime.fromtimestamp)"
   ]
  },
  {
   "cell_type": "code",
   "execution_count": null,
   "id": "6960213e",
   "metadata": {},
   "outputs": [],
   "source": [
    "def round_seconds(obj: datetime, how=\"previous\") -> datetime:\n",
    "    if how==\"previous\":\n",
    "        obj -= timedelta(seconds=1)\n",
    "    else:\n",
    "        obj += timedelta(seconds=1)\n",
    "    return obj.replace(microsecond=0)\n",
    "\n",
    "timebins = []\n",
    "current_datetime = round_seconds(cpupercentdf[\"startDateTime\"].min())\n",
    "end_datetime = round_seconds(cpupercentdf[\"endDateTime\"].max())\n",
    "while current_datetime <= end_datetime:\n",
    "    timebins.append(current_datetime)\n",
    "    current_datetime += timedelta(seconds=2)\n",
    "timebins.append(round_seconds(end_datetime, how=\"next\"))\n",
    "\n",
    "\n",
    "cpupercentdf[\"bins\"] = pandas.cut(cpupercentdf[\"startDateTime\"], timebins)"
   ]
  },
  {
   "cell_type": "code",
   "execution_count": null,
   "id": "156f89d6",
   "metadata": {},
   "outputs": [],
   "source": [
    "def f(series):\n",
    "    return len(series.unique())\n",
    "\n",
    "cpusumdfpercent = cpupercentdf.groupby(\"bins\").agg(cpu_sum=(\"cpuPercent\",\"sum\"), numlambdas=(\"uuid\",f)).reset_index()\n",
    "cpusumdfpercent[\"timelabels\"] = cpusumdfpercent[\"bins\"].apply(lambda x: x.left)\n",
    "init_time = cpusumdfpercent[\"timelabels\"][0]\n",
    "cpusumdfpercent[\"timelabels\"] = cpusumdfpercent[\"timelabels\"].apply(lambda x: (x - init_time).seconds)"
   ]
  },
  {
   "cell_type": "code",
   "execution_count": null,
   "id": "82fa04d3",
   "metadata": {},
   "outputs": [],
   "source": [
    "fig, ax = pyplot.subplots(figsize=(16,9))\n",
    "pyplot.plot(cpusumdfpercent[\"timelabels\"], cpusumdfpercent[\"cpu_sum\"]/2, label=\"CPU Usage\")\n",
    "pyplot.xlabel(\"Time from start [s]\", size=25)\n",
    "pyplot.ylabel(\"CPU usage [%]\", size=25)\n",
    "pyplot.tick_params(labelsize=25)\n",
    "\n",
    "fig.savefig('cpuusage_pps.png',\n",
    "            format='png',\n",
    "            dpi=400,\n",
    "            bbox_inches='tight')"
   ]
  },
  {
   "cell_type": "code",
   "execution_count": null,
   "id": "5f31621f",
   "metadata": {},
   "outputs": [],
   "source": []
  }
 ],
 "metadata": {
  "kernelspec": {
   "display_name": "Python 3",
   "language": "python",
   "name": "python3"
  },
  "language_info": {
   "codemirror_mode": {
    "name": "ipython",
    "version": 3
   },
   "file_extension": ".py",
   "mimetype": "text/x-python",
   "name": "python",
   "nbconvert_exporter": "python",
   "pygments_lexer": "ipython3",
   "version": "3.10.0"
  }
 },
 "nbformat": 4,
 "nbformat_minor": 5
}
